{
 "cells": [
  {
   "cell_type": "markdown",
   "id": "0663037d-371f-4eca-a2c8-5c7e8b7c1ad8",
   "metadata": {},
   "source": [
    "---\n",
    "\n",
    "# 4주차 Day 1 - Flask를 Flask 답게"
   ]
  },
  {
   "cell_type": "markdown",
   "id": "a823ec76-974b-4288-8cc9-d8cbcfbd6d9a",
   "metadata": {},
   "source": [
    "* 실습에서는 `GET` 과 `POST` 를 이용해서 `/menu` 자원으로부터 데이터를 가지고오고, 자원에 데이터를 추가해보았습니다. \n",
    "* 이는 자원에서 할 수 있는 4가지 logic인 CRUD(Create, Read, Update, Delete) 중 Read와 Create에 해당하는 부분입니다. \n",
    "* 이를 바탕으로 다음 과제를 해결해봅시다."
   ]
  },
  {
   "cell_type": "markdown",
   "id": "11161ee3-5588-482e-834a-1763b23bc0aa",
   "metadata": {},
   "source": [
    "---\n",
    "\n",
    "## 필수 과제 : 메뉴 관리 CRUD 구현하기\n",
    "- HTTP 메서드 `PUT` 를 이용해 Update, `DELETE` 를 이용해 Delete 기능을 구현해주세요.\n",
    "- `PUT /menu/<int:id>` : 해당하는 id에 해당하는 데이터를 갱신합니다. (HTTPRequest의 Body에 갱신할 내용이 json으로 전달됩니다.)\n",
    "- `DELETE /menu/<int:id>` : 해당하는 id에 해당하는 데이터를 삭제합니다.\n",
    "- `@app.route()` 의 인자로 들어가는 경로에는 다음과 같이 사용해줄 수도 있습니다.\n",
    "```python\n",
    "@app.route('/<name>') # URL에 <>를 붙임으로서 이를 함수의 인자로 대입할 수 있습니다.\n",
    "def my_view_func(name):\n",
    "    return name\n",
    "```"
   ]
  },
  {
   "cell_type": "code",
   "execution_count": 2,
   "id": "73b6d9da-9879-45f2-bad9-b755df055307",
   "metadata": {},
   "outputs": [
    {
     "name": "stdout",
     "output_type": "stream",
     "text": [
      " * Serving Flask app \"__main__\" (lazy loading)\n",
      " * Environment: production\n",
      "\u001b[31m   WARNING: This is a development server. Do not use it in a production deployment.\u001b[0m\n",
      "\u001b[2m   Use a production WSGI server instead.\u001b[0m\n",
      " * Debug mode: off\n"
     ]
    },
    {
     "name": "stderr",
     "output_type": "stream",
     "text": [
      " * Running on http://127.0.0.1:5000/ (Press CTRL+C to quit)\n"
     ]
    }
   ],
   "source": [
    "from flask import Flask, jsonify, request\n",
    "app = Flask(__name__)\n",
    "\n",
    "menu = [\n",
    "    {\"id\": 1, \"name\": \"Espresso\", \"price\": 3800},\n",
    "    {\"id\": 2, \"name\": \"Americano\", \"price\": 4100},\n",
    "    {\"id\": 3, \"name\": \"CageLatte\", \"price\": 4600},\n",
    "]\n",
    "\n",
    "def find_index_by_id(dicts, id):\n",
    "    id = int(id)\n",
    "    for i,dict in enumerate(dicts):\n",
    "        if dict['id'] == id:\n",
    "            return i\n",
    "\n",
    "@app.route('/')\n",
    "def hello_flask():\n",
    "    return \"Hello World!!\"\n",
    "\n",
    "#GET /menu | 자료를 가지고 온다.\n",
    "@app.route('/menu')\n",
    "def get_menu():\n",
    "    return jsonify({\"menu\" : menu})\n",
    "\n",
    "#POST /menu\n",
    "@app.route('/menu', methods = ['POST'])\n",
    "def create_menu():\n",
    "    # 전달받은 자료를 menu 자원에 추가\n",
    "    request_data = request.get_json()   #{\"name\": ..., \"price\": ...}\n",
    "    new_menu = {\n",
    "        \"id\" : 4,\n",
    "        \"name\" : request_data['name'],\n",
    "        \"price\" : request_data['price'],\n",
    "    }\n",
    "    menu.append(new_menu)\n",
    "    return jsonify(new_menu)\n",
    "\n",
    "\n",
    "@app.route('/menu/<id>', methods = ['PUT'])\n",
    "def modify_menu(id):\n",
    "    request_data = request.get_json()   #{\"name\": ..., \"price\": ...}\n",
    "    new_menu = {\n",
    "        \"id\"  : id,\n",
    "        \"name\" : request_data['name'],\n",
    "        \"price\" : request_data['price']    \n",
    "    }\n",
    "   \n",
    "    menu[find_index_by_id(menu,id)] = new_menu\n",
    "    return jsonify(menu)\n",
    "\n",
    "@app.route('/menu/<id>', methods = ['DELETE'])\n",
    "def delete_menu(id):\n",
    "    del_index = find_index_by_id(menu,id)\n",
    "    del_menu = menu[del_index]\n",
    "    del(menu[del_index])\n",
    "    return del_menu\n",
    "\n",
    "if __name__ == '__main__':\n",
    "    app.run()"
   ]
  },
  {
   "cell_type": "markdown",
   "id": "0da35c40-77ba-4a58-9463-847a28ab85b4",
   "metadata": {},
   "source": [
    "---\n",
    "\n",
    "## 보너스 과제 I: ID야 움직여라 얍!\n",
    "* 새로운 menu를 추가하는 `POST` 영역에서 id가 4로 고정되어있는 문제가 발생합니다.\n",
    "* POST 요청이 들어올 때마다 id가 하나씩 증가하여 `menu` 리스트에 추가될 수 있도록 코드를 수정해주세요.\n",
    "* 이 과제는 필수 과제 이후에 진행되어야 합니다."
   ]
  },
  {
   "cell_type": "code",
   "execution_count": null,
   "id": "adbe240b-9e51-4880-9dbe-e2c1864ec6fb",
   "metadata": {},
   "outputs": [
    {
     "name": "stdout",
     "output_type": "stream",
     "text": [
      " * Serving Flask app \"__main__\" (lazy loading)\n",
      " * Environment: production\n",
      "\u001b[31m   WARNING: This is a development server. Do not use it in a production deployment.\u001b[0m\n",
      "\u001b[2m   Use a production WSGI server instead.\u001b[0m\n",
      " * Debug mode: off\n"
     ]
    },
    {
     "name": "stderr",
     "output_type": "stream",
     "text": [
      " * Running on http://127.0.0.1:5000/ (Press CTRL+C to quit)\n",
      "127.0.0.1 - - [14/Oct/2022 16:31:31] \"GET /menu HTTP/1.1\" 200 -\n",
      "127.0.0.1 - - [14/Oct/2022 16:31:39] \"POST /menu HTTP/1.1\" 200 -\n",
      "127.0.0.1 - - [14/Oct/2022 16:31:42] \"GET /menu HTTP/1.1\" 200 -\n",
      "127.0.0.1 - - [14/Oct/2022 16:31:49] \"PUT /menu/3 HTTP/1.1\" 200 -\n",
      "127.0.0.1 - - [14/Oct/2022 16:31:52] \"GET /menu HTTP/1.1\" 200 -\n",
      "127.0.0.1 - - [14/Oct/2022 16:32:19] \"DELETE /menu/1 HTTP/1.1\" 200 -\n",
      "127.0.0.1 - - [14/Oct/2022 16:32:25] \"GET /menu HTTP/1.1\" 200 -\n",
      "127.0.0.1 - - [14/Oct/2022 16:32:38] \"POST /menu HTTP/1.1\" 200 -\n",
      "127.0.0.1 - - [14/Oct/2022 16:32:39] \"POST /menu HTTP/1.1\" 200 -\n",
      "127.0.0.1 - - [14/Oct/2022 16:32:40] \"POST /menu HTTP/1.1\" 200 -\n",
      "127.0.0.1 - - [14/Oct/2022 16:32:42] \"GET /menu HTTP/1.1\" 200 -\n"
     ]
    }
   ],
   "source": [
    "from flask import Flask, jsonify, request\n",
    "app = Flask(__name__)\n",
    "\n",
    "menu = [\n",
    "    {\"id\": 1, \"name\": \"Espresso\", \"price\": 3800},\n",
    "    {\"id\": 2, \"name\": \"Americano\", \"price\": 4100},\n",
    "    {\"id\": 3, \"name\": \"CageLatte\", \"price\": 4600},\n",
    "]\n",
    "counter = {'id' : 4}\n",
    "\n",
    "def find_index_by_id(dicts, id):\n",
    "    id = int(id)\n",
    "    for i,dict in enumerate(dicts):\n",
    "        if dict['id'] == id:\n",
    "            return i\n",
    "\n",
    "@app.route('/')\n",
    "def hello_flask():\n",
    "    return \"Hello World!!\"\n",
    "\n",
    "#GET /menu | 자료를 가지고 온다.\n",
    "@app.route('/menu')\n",
    "def get_menu():\n",
    "    return jsonify({\"menu\" : menu})\n",
    "\n",
    "#POST /menu\n",
    "@app.route('/menu', methods = ['POST'])\n",
    "def add_menu():\n",
    "    # 전달받은 자료를 menu 자원에 추가\n",
    "    request_data = request.get_json()   #{\"name\": ..., \"price\": ...}\n",
    "    new_menu = {\n",
    "        \"id\" : counter['id'],\n",
    "        \"name\" : request_data['name'],\n",
    "        \"price\" : request_data['price'],\n",
    "    }\n",
    "    counter['id'] += 1\n",
    "    menu.append(new_menu)\n",
    "    return jsonify(new_menu)\n",
    "\n",
    "\n",
    "@app.route('/menu/<id>', methods = ['PUT'])\n",
    "def modify_menu(id):\n",
    "    request_data = request.get_json()   #{\"name\": ..., \"price\": ...}\n",
    "    new_menu = {\n",
    "        \"id\"  : id,\n",
    "        \"name\" : request_data['name'],\n",
    "        \"price\" : request_data['price']    \n",
    "    }\n",
    "   \n",
    "    menu[find_index_by_id(menu,id)] = new_menu\n",
    "    return jsonify(menu)\n",
    "\n",
    "@app.route('/menu/<id>', methods = ['DELETE'])\n",
    "def delete_menu(id):\n",
    "    del_index = find_index_by_id(menu,id)\n",
    "    del_menu = menu[del_index]\n",
    "    del(menu[del_index])\n",
    "    return del_menu\n",
    "\n",
    "if __name__ == '__main__':\n",
    "    app.run()"
   ]
  },
  {
   "cell_type": "markdown",
   "id": "1452574e-380d-43ee-975b-a167b0b40407",
   "metadata": {},
   "source": [
    "---\n",
    "\n",
    "## 보너스 과제 II : 데이터베이스 연동하기\n",
    "- 수업에서 다룬 API는 서버를 재시작하면 모든 정보가 리셋되는 치명적인 문제가 있었습니다. 이를 해결하기 위해 데이터만을 저장하는 데이터베이스를 도입하여 Flask과 연동할 필요가 생겼습니다.\n",
    "- SQL과 ORM 중 하나를 선택하여 데이터베이스와 Flask app을 연동해봅시다. (즉, 자원에 CRUD가 발생하면 이 정보가 데이터베이스에 저장되어야합니다.)\n",
    "- 이 과제는 필수 과제, 보너스 과제 I 이후에 진행되어야 합니다."
   ]
  },
  {
   "cell_type": "markdown",
   "id": "b4e974a2-a5c7-4683-befd-0bac4b9df3b0",
   "metadata": {},
   "source": []
  },
  {
   "cell_type": "markdown",
   "id": "021c2aad-ad04-44d0-b044-51ed858fefad",
   "metadata": {},
   "source": []
  }
 ],
 "metadata": {
  "kernelspec": {
   "display_name": "Python 3 (ipykernel)",
   "language": "python",
   "name": "python3"
  },
  "language_info": {
   "codemirror_mode": {
    "name": "ipython",
    "version": 3
   },
   "file_extension": ".py",
   "mimetype": "text/x-python",
   "name": "python",
   "nbconvert_exporter": "python",
   "pygments_lexer": "ipython3",
   "version": "3.9.12"
  }
 },
 "nbformat": 4,
 "nbformat_minor": 5
}
