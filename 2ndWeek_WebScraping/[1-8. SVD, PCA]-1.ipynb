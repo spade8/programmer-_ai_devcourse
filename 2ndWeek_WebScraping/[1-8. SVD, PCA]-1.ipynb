{
 "cells": [
  {
   "cell_type": "markdown",
   "metadata": {
    "id": "avi-EXcIa6gS"
   },
   "source": [
    "# SVD"
   ]
  },
  {
   "cell_type": "code",
   "execution_count": 1,
   "metadata": {
    "id": "dQa0lGJnbH9u"
   },
   "outputs": [],
   "source": [
    "import numpy as np"
   ]
  },
  {
   "cell_type": "code",
   "execution_count": 2,
   "metadata": {
    "id": "2SOcUB5Qa6Xw"
   },
   "outputs": [
    {
     "name": "stdout",
     "output_type": "stream",
     "text": [
      "A:\n",
      "[[ 1  1]\n",
      " [-2  2]\n",
      " [-1 -1]]\n"
     ]
    }
   ],
   "source": [
    "A = np.array([[1, 1], [-2, 2], [-1, -1]])\n",
    "\n",
    "print(\"A:\")\n",
    "print(A)"
   ]
  },
  {
   "cell_type": "code",
   "execution_count": 3,
   "metadata": {
    "id": "XfghmJpIa6UJ"
   },
   "outputs": [
    {
     "name": "stdout",
     "output_type": "stream",
     "text": [
      "U:\n",
      "[[ 0.70721358  0.          0.70721358]\n",
      " [ 0.          1.          0.        ]\n",
      " [-0.70721358  0.          0.70721358]]\n",
      "UU:\n",
      "[[ 0.70721358]\n",
      " [ 0.        ]\n",
      " [-0.70721358]]\n"
     ]
    }
   ],
   "source": [
    "U = np.array([[1/1.414, 0, 1/1.414], [0, 1, 0], [-1/1.414, 0, 1/1.414]])\n",
    "\n",
    "UU = U[:,:1]\n",
    "\n",
    "print(\"U:\")\n",
    "print(U)\n",
    "print(\"UU:\")\n",
    "print(UU)"
   ]
  },
  {
   "cell_type": "code",
   "execution_count": 4,
   "metadata": {
    "id": "KNN45vGga6Q4"
   },
   "outputs": [
    {
     "name": "stdout",
     "output_type": "stream",
     "text": [
      "D\n",
      "[[4.         0.        ]\n",
      " [0.         0.70721358]\n",
      " [0.         0.        ]]\n",
      "DD\n",
      "[[4.]]\n"
     ]
    }
   ],
   "source": [
    "D = np.array([[4, 0], [0, 1/1.414], [0, 0]])\n",
    "\n",
    "DD = D[:1,:1]\n",
    "\n",
    "print(\"D\")\n",
    "print(D)\n",
    "\n",
    "print(\"DD\")\n",
    "print(DD)"
   ]
  },
  {
   "cell_type": "code",
   "execution_count": 5,
   "metadata": {
    "id": "yCnrzLTMa6N-"
   },
   "outputs": [
    {
     "name": "stdout",
     "output_type": "stream",
     "text": [
      "Vt\n",
      "[[ 0.70721358  0.70721358]\n",
      " [-0.70721358  0.70721358]]\n",
      "VVt\n",
      "[[0.70721358 0.70721358]]\n"
     ]
    }
   ],
   "source": [
    "Vt = np.array([[1/1.414, 1/1.414], [-1/1.414, 1/1.414]])\n",
    "\n",
    "VVt = Vt[:1,:]\n",
    "\n",
    "print(\"Vt\")\n",
    "print(Vt)\n",
    "\n",
    "print(\"VVt\")\n",
    "print(VVt)"
   ]
  },
  {
   "cell_type": "code",
   "execution_count": 6,
   "metadata": {
    "id": "j3arPWcNa6LG"
   },
   "outputs": [
    {
     "name": "stdout",
     "output_type": "stream",
     "text": [
      "AA\n",
      "[[ 2.00060418  2.00060418]\n",
      " [-0.50015105  0.50015105]\n",
      " [-2.00060418 -2.00060418]]\n"
     ]
    }
   ],
   "source": [
    "AA = U @ D @ Vt\n",
    "\n",
    "print(\"AA\")\n",
    "print(AA)"
   ]
  },
  {
   "cell_type": "code",
   "execution_count": 7,
   "metadata": {
    "id": "MO8h6wSya6IG"
   },
   "outputs": [
    {
     "data": {
      "text/plain": [
       "array([[ 2.00060418,  2.00060418],\n",
       "       [ 0.        ,  0.        ],\n",
       "       [-2.00060418, -2.00060418]])"
      ]
     },
     "execution_count": 7,
     "metadata": {},
     "output_type": "execute_result"
    }
   ],
   "source": [
    "UU @ DD @ VVt"
   ]
  },
  {
   "cell_type": "markdown",
   "metadata": {
    "id": "YuJNNAftauIV"
   },
   "source": [
    "# PCA"
   ]
  },
  {
   "cell_type": "code",
   "execution_count": 8,
   "metadata": {
    "colab": {
     "base_uri": "https://localhost:8080/"
    },
    "id": "dMkS6DLfbRik",
    "outputId": "10cb534d-08b9-4611-93ac-34af63207f34"
   },
   "outputs": [
    {
     "data": {
      "text/plain": [
       "PCA(n_components=2)"
      ]
     },
     "execution_count": 8,
     "metadata": {},
     "output_type": "execute_result"
    }
   ],
   "source": [
    "import numpy as np\n",
    "from sklearn.decomposition import PCA\n",
    "\n",
    "X = np.array([[-1, -1], [-2, -1], [-3, -2], [1, 1], [2, 1], [3, 2]])\n",
    "pca = PCA(n_components=2)\n",
    "pca.fit(X)\n"
   ]
  },
  {
   "cell_type": "code",
   "execution_count": 9,
   "metadata": {
    "colab": {
     "base_uri": "https://localhost:8080/"
    },
    "id": "urQ_9bcZb0WO",
    "outputId": "50e52323-d40a-4836-a0b4-1ccb00d5d45d"
   },
   "outputs": [
    {
     "name": "stdout",
     "output_type": "stream",
     "text": [
      "[0.99244289 0.00755711]\n"
     ]
    }
   ],
   "source": [
    "print(pca.explained_variance_ratio_)\n"
   ]
  },
  {
   "cell_type": "code",
   "execution_count": 10,
   "metadata": {
    "colab": {
     "base_uri": "https://localhost:8080/"
    },
    "id": "s2AbqvSKcBnl",
    "outputId": "72e59550-f93f-464f-c37b-0d2f598bc2f8"
   },
   "outputs": [
    {
     "name": "stdout",
     "output_type": "stream",
     "text": [
      "[6.30061232 0.54980396]\n"
     ]
    }
   ],
   "source": [
    "print(pca.singular_values_)"
   ]
  },
  {
   "cell_type": "code",
   "execution_count": 11,
   "metadata": {
    "colab": {
     "base_uri": "https://localhost:8080/"
    },
    "id": "dSvdHJtvcEI1",
    "outputId": "2386806a-f1dc-41fa-d55c-67257175c4eb"
   },
   "outputs": [
    {
     "name": "stdout",
     "output_type": "stream",
     "text": [
      "[[-0.83849224 -0.54491354]\n",
      " [ 0.54491354 -0.83849224]]\n"
     ]
    }
   ],
   "source": [
    "print(pca.components_)\n"
   ]
  },
  {
   "cell_type": "code",
   "execution_count": null,
   "metadata": {
    "id": "2PAvKSbIdQE-"
   },
   "outputs": [],
   "source": []
  }
 ],
 "metadata": {
  "colab": {
   "collapsed_sections": [],
   "name": "[1-8. SVD, PCA]-1",
   "provenance": []
  },
  "kernelspec": {
   "display_name": "Python 3 (ipykernel)",
   "language": "python",
   "name": "python3"
  },
  "language_info": {
   "codemirror_mode": {
    "name": "ipython",
    "version": 3
   },
   "file_extension": ".py",
   "mimetype": "text/x-python",
   "name": "python",
   "nbconvert_exporter": "python",
   "pygments_lexer": "ipython3",
   "version": "3.9.12"
  }
 },
 "nbformat": 4,
 "nbformat_minor": 4
}
