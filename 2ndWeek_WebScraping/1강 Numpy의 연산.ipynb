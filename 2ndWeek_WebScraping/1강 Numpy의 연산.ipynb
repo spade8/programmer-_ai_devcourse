{
 "cells": [
  {
   "cell_type": "markdown",
   "id": "a27a7d63-531d-453d-98c4-13f4ff2fb5a1",
   "metadata": {},
   "source": [
    "## Numpy로 연산하기\n",
    "\n",
    "### Vector와 Scalar 사이의 연산\n",
    "$$x = \\left(\\begin{matrix} 1 \\\\ 2 \\\\ 3 \\end{matrix}\\right) \\quad  c = 5\n",
    "$$\n",
    "\n"
   ]
  },
  {
   "cell_type": "code",
   "execution_count": 3,
   "id": "1d1b9206-55f7-4fae-816b-041db6eaf397",
   "metadata": {},
   "outputs": [],
   "source": [
    "import numpy as np"
   ]
  },
  {
   "cell_type": "code",
   "execution_count": 5,
   "id": "4c76a9dc-d89b-4efb-be7a-7dae66aa88e0",
   "metadata": {},
   "outputs": [
    {
     "name": "stdout",
     "output_type": "stream",
     "text": [
      "더하기 : [6 7 8]\n",
      "빼기 : [-4 -3 -2]\n",
      "곱하기 : [ 5 10 15]\n",
      "나누기 : [0.2 0.4 0.6]\n"
     ]
    }
   ],
   "source": [
    "x = np.array([1,2,3])\n",
    "c = 5\n",
    "print(\"더하기 : {}\".format(x + c))\n",
    "print(\"빼기 : {}\".format(x - c))\n",
    "print(\"곱하기 : {}\".format(x * c))\n",
    "print(\"나누기 : {}\".format(x / c))"
   ]
  },
  {
   "cell_type": "markdown",
   "id": "973bd51c-3bcd-4d04-81d6-43f7b4d2bbdc",
   "metadata": {},
   "source": [
    "### Vector와 Vector 사이의 연산\n",
    "벡터의 **같은 인덱스** 끼리 연산이 진행!!\n",
    "\n",
    "$$y = \\left(\\begin{matrix} 1 \\\\ 3 \\\\ 5 \\end{matrix}\\right) \\quad z = \\left(\\begin{matrix} 2 \\\\ 9 \\\\ 20 \\end{matrix}\\right)\n",
    "$$"
   ]
  },
  {
   "cell_type": "code",
   "execution_count": 7,
   "id": "3238f16a-d8d1-46ff-bded-e1af42609d05",
   "metadata": {},
   "outputs": [
    {
     "name": "stdout",
     "output_type": "stream",
     "text": [
      "더하기 : [ 3 12 25]\n",
      "빼기 : [ -1  -6 -15]\n",
      "곱하기 : [  2  27 100]\n",
      "나누기 : [0.5        0.33333333 0.25      ]\n"
     ]
    }
   ],
   "source": [
    "y = np.array([1,3,5])\n",
    "z = np.array([2,9,20])\n",
    "\n",
    "print(\"더하기 : {}\".format(y + z))\n",
    "print(\"빼기 : {}\".format(y - z))\n",
    "print(\"곱하기 : {}\".format(y * z))\n",
    "print(\"나누기 : {}\".format(y / z))"
   ]
  },
  {
   "cell_type": "markdown",
   "id": "7579e71a-f015-4da9-bb0b-c89f69d442ce",
   "metadata": {},
   "source": [
    "## Array의 Indexing\n",
    "* Python의 List와 유사하게 진행\n",
    "$$\n",
    "W =  \\left(\\begin{matrix} 1&2&3&4 \\\\ 5&6&7&8 \\\\ 9&10&11&12 \\end{matrix}\\right)\n",
    "$$"
   ]
  },
  {
   "cell_type": "code",
   "execution_count": 8,
   "id": "2c669b9e-b67d-404c-b28c-60907417a90b",
   "metadata": {},
   "outputs": [
    {
     "data": {
      "text/plain": [
       "1"
      ]
     },
     "execution_count": 8,
     "metadata": {},
     "output_type": "execute_result"
    }
   ],
   "source": [
    "W = np.array([[1,2,3,4],[5,6,7,8],[9,10,11,12]])\n",
    "W[0,0]"
   ]
  },
  {
   "cell_type": "code",
   "execution_count": 9,
   "id": "8a0e8bea-416d-47e0-816a-d7ecc9a50556",
   "metadata": {},
   "outputs": [
    {
     "data": {
      "text/plain": [
       "12"
      ]
     },
     "execution_count": 9,
     "metadata": {},
     "output_type": "execute_result"
    }
   ],
   "source": [
    "W[2,3]"
   ]
  },
  {
   "cell_type": "markdown",
   "id": "f76ff038-5d74-4d0a-aa01-c0df34634757",
   "metadata": {},
   "source": [
    "## Array의 Slicing\n",
    "* Python의 List와 유사하게 진행"
   ]
  },
  {
   "cell_type": "code",
   "execution_count": 11,
   "id": "89e65ab1-a066-4cbe-915d-a8e3f93b0144",
   "metadata": {},
   "outputs": [
    {
     "data": {
      "text/plain": [
       "array([[2, 3],\n",
       "       [6, 7]])"
      ]
     },
     "execution_count": 11,
     "metadata": {},
     "output_type": "execute_result"
    }
   ],
   "source": [
    "W = np.array([[1,2,3,4],[5,6,7,8],[9,10,11,12]])\n",
    "\n",
    "W[0:2,1:3]"
   ]
  },
  {
   "cell_type": "code",
   "execution_count": null,
   "id": "99f7a669-e837-44d1-a0a0-6004ab072927",
   "metadata": {},
   "outputs": [],
   "source": []
  },
  {
   "cell_type": "code",
   "execution_count": null,
   "id": "91f85c3d-98e5-4640-a00d-bb9e4e58729f",
   "metadata": {},
   "outputs": [],
   "source": []
  },
  {
   "cell_type": "code",
   "execution_count": null,
   "id": "34a3ceda-34d8-4a7b-baf1-d41225c262e8",
   "metadata": {},
   "outputs": [],
   "source": []
  },
  {
   "cell_type": "code",
   "execution_count": null,
   "id": "61e8e7d0-9058-4ecf-a6c8-34f0d18646c3",
   "metadata": {},
   "outputs": [],
   "source": []
  },
  {
   "cell_type": "code",
   "execution_count": null,
   "id": "c7b221cb-c2fb-4e37-8147-7173c11f053f",
   "metadata": {},
   "outputs": [],
   "source": []
  }
 ],
 "metadata": {
  "kernelspec": {
   "display_name": "Python 3 (ipykernel)",
   "language": "python",
   "name": "python3"
  },
  "language_info": {
   "codemirror_mode": {
    "name": "ipython",
    "version": 3
   },
   "file_extension": ".py",
   "mimetype": "text/x-python",
   "name": "python",
   "nbconvert_exporter": "python",
   "pygments_lexer": "ipython3",
   "version": "3.9.12"
  }
 },
 "nbformat": 4,
 "nbformat_minor": 5
}
