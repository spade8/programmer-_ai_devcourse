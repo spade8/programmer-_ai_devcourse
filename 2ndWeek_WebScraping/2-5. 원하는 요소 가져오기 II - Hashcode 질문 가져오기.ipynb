{
 "cells": [
  {
   "cell_type": "markdown",
   "id": "445c8d8d",
   "metadata": {},
   "source": [
    "## 2-4. BeautifulSoup을 이용해 원하는 요소 가져오기 II - Hashcode 질문 가져오기\n",
    "\n",
    "- BeautifulSoup을 이용해서 Hashcode 질문 내용을 스크래핑해봅시다."
   ]
  },
  {
   "cell_type": "markdown",
   "id": "8396e612",
   "metadata": {},
   "source": [
    "### 스크래핑하고자 하는 사이트 확인하기\n",
    "\n",
    "직접 접속해서 해당 사이트를 확인해봅시다 : https://hashcode.co.kr/\n",
    "\n",
    "아래 두 가지 원칙을 지킵니다.\n",
    "1. 과도한 요청을 보내지 않습니다.\n",
    "2. 받아온 정보 활용에 유의합니다."
   ]
  },
  {
   "cell_type": "code",
   "execution_count": 1,
   "id": "39ad10c1",
   "metadata": {},
   "outputs": [],
   "source": [
    "# 다음 User-Agent를 추가해봅시다.\n",
    "\n",
    "user_agent = {\"User-Agent\": \"Mozilla/5.0 (Macintosh; Intel Mac OS X 10_15_4) AppleWebKit/537.36 (KHTML, like Gecko) Chrome/83.0.4103.97 Safari/537.36\"}"
   ]
  },
  {
   "cell_type": "code",
   "execution_count": 5,
   "id": "3b011297",
   "metadata": {},
   "outputs": [],
   "source": [
    "# 필요한 라이브러리를 불러온 후, 요청을 진행해봅시다.\n",
    "\n",
    "import requests\n",
    "from bs4 import BeautifulSoup\n",
    "\n",
    "res = requests.get(\"https://hashcode.co.kr/\", user_agent)\n"
   ]
  },
  {
   "cell_type": "code",
   "execution_count": 8,
   "id": "20b860eb",
   "metadata": {},
   "outputs": [],
   "source": [
    "# 응답을 바탕으로 BeautifulSoup 객체를 생성해봅시다.\n",
    "\n",
    "soup = BeautifulSoup(res.text, \"html.parser\")"
   ]
  },
  {
   "cell_type": "code",
   "execution_count": 16,
   "id": "d8fe785a",
   "metadata": {},
   "outputs": [
    {
     "name": "stdout",
     "output_type": "stream",
     "text": [
      "50\n",
      "파이썬을 이용해 리듬게임을 만들고 있는데 판정이 잘못되어 질문합니다\n",
      "뭐가 문제인지 모르겠어요....\n",
      "파이썬 이용하여 리스트 내용 엑셀에 옮겨쓰기\n",
      "셀레니움과 크롬드라이버 차이, 관계\n",
      "리스트 항목 하나씩 읽어 색깔 바꾸기\n",
      "파이썬에서 엑셀2의 내용을 엑셀1에 삽입하는 방법이 무엇이 있을까요?\n",
      "기존 list안에 새로운 리스트로  append 하기\n",
      "과제풀이요청 삭제\n",
      "Xcode 한글 자소분리 질문. 안녕이라고 입력하면 ㅇㅏㄴㄴㅕㅇ 이런식으로 출력\n",
      "Python 웹스크래핑 불가\n",
      "포트번호까지 완성된 주소로 커버하는 방법\n",
      "JAVA 2차원 배열\n",
      "파이썬 undefined name '함수이름' 오류\n",
      "c6328\n",
      "포트란 치환문 코딩 빌드 에러 질문드립니다.\n",
      "안드로이드 스튜디오 설치가 안됩니다\n",
      "python 정규 표현식 질문\n",
      "DOZE모드에서 GPS정보 얻기\n",
      "파이썬 ip주소 증가시키기\n",
      "JAVA Scanner\n",
      "파이썬/ 폴더 내 순차적으로 존재하는 파일들에 명령어를 반복 적용하고 싶습니다. 도와주세요.\n",
      "인텔리제이에서 스칼라 클래스 옵션이 안뜹니다\n",
      "포인터 관련하여 질문드립니다! *z = ~(hap & 0xFF); 에서 ~의 의미는?\n",
      "for문으로 폴더내에 모든 파일을 적용하고싶습니다..\n",
      "opencv c++ 질문입니다 VideoWrite 관하여 질문입니다.\n",
      "opencv c++ 질문 도형들의 중심값을 구해서 그 도형들 사이에 선을 그리기\n",
      "c언어 배열 5의 배수를 지웠는데 실행을 하면 마지막 숫자 12가 나오지 않는다\n",
      "자바스크립트 질문있습니다\n",
      "파이썬 접근제한자 질문있습니다.\n",
      "런타임 오류 이유가 궁금합니다..\n",
      "C언어 질문입니다.\n",
      "파이썬 if문안에 continue\n",
      "파이썬 중복 제거 하는 방법\n",
      "파이썬 min key 가 이해되지 않음.\n",
      "판다스 기존 엑셀 시트에 특정 열만 추가하여 저장\n",
      "자바스크립트 this 바인딩 개념이 헷갈리는데 도와주실 수 있나요?\n",
      "jsp 아이디찾기 데이터 베이스 연결 문제\n",
      "셀레늄 에러\n",
      "리스트 자체가 input인데 어떻게 입력받을 수 있을까요?\n",
      "코드로 안드로이드 시스템 시간을 변경할 수 있나요?\n",
      "파이썬 초보 Pandas에서 인덱스 행 추가어떻게해야할까요?\n",
      "우분투 cli 환경에서 git 사용 질문이요\n",
      "파이썬 리스트 여러개의 요소를 한개의 요소로 합치는 방법 \n",
      "자바 코드에 관한 질문입니다 긴글입니다 \n",
      "JAVA 변수 저장\n",
      "React - JS 연동\n",
      "C++입니다\n",
      "macOS로 VisualStudioCode로 Python사용 중 openpyxl install오류\n",
      "visual studio 2022로 github에 업로드 할 시 경로 문제에 대해 질문드립니다.\n",
      "visual studio 2022와 github 연결 문제에 대해 질문드리고 싶습니다.\n"
     ]
    }
   ],
   "source": [
    "# 질문의 빈도를 체크하는 dict를 만든 후, 빈도를 체크해봅시다.\n",
    "\n",
    "questions = soup.find_all(\"li\", \"question-list-item\")\n",
    "\n",
    "print(len(questions))\n",
    "for question in questions:\n",
    "    print(question.find(\"div\", \"question\").find(\"div\",\"top\").h4.text)"
   ]
  },
  {
   "cell_type": "markdown",
   "id": "f4829f0b",
   "metadata": {},
   "source": [
    "### Bonus: 페이지네이션(Pagination)\n",
    "\n",
    "페이지네이션은 많은 정보를 인덱스로 구분하는 기법입니다.  \n",
    "저희가 진행하고 있는 사이트는 Query String을 통해서 이를 구분하는데요,  \n",
    "이를 감안해서 다시 한번 진행해봅시다.\n",
    "\n",
    "`https://hashcode.co.kr/?page={i}`"
   ]
  },
  {
   "cell_type": "code",
   "execution_count": 21,
   "id": "e3718506",
   "metadata": {},
   "outputs": [
    {
     "name": "stdout",
     "output_type": "stream",
     "text": [
      "파이썬을 이용해 리듬게임을 만들고 있는데 판정이 잘못되어 질문합니다\n",
      "뭐가 문제인지 모르겠어요....\n",
      "파이썬 이용하여 리스트 내용 엑셀에 옮겨쓰기\n",
      "셀레니움과 크롬드라이버 차이, 관계\n",
      "리스트 항목 하나씩 읽어 색깔 바꾸기\n",
      "\n",
      "\n",
      "파이썬에서 프로그램 실행 중에 pause를 넣는 방법이 뭐가 있을까요 ?\n",
      "c++ 코드 0xC0000005: 0x0000000000000000 위치를 읽는 동안 액세스 위반\n",
      "데이터프레임 처리과정 중에 막혀서 질문 드립니다.\n",
      "c언어 질문 : 양의 정수 x를 입력 받아 1-2+3-4+5-6+...+n>x가 되는 최소의 n값 구하기 \n",
      "함수 매개변수에 외부함수 포함한 조건 넣을 때 질문 입니다.\n",
      "\n",
      "\n",
      "python super resolution InternalError 해결방법 좀 알려주세요\n",
      "파이썬 리스트로 단어암기 프로그램 만들기 질문\n",
      "c언어 함수에 관한 질문\n",
      "nodejs webRTC문제\n",
      "코드를 비동기로 실행하고 싶어요\n",
      "\n",
      "\n",
      "파이썬 환경변수 질문드립니다.\n",
      "for문과 튜플이용한 환율계산기코딩 막혔는데 힌트부탁드립니다!\n",
      "기계학습 전처리 정규화에 대해 질문 드립니다\n",
      "파이썬 채팅프로그램 질문\n",
      "python으로 3D 오브젝트 생성과 조작 라이브러리 추천\n",
      "\n",
      "\n"
     ]
    }
   ],
   "source": [
    "# Pagination이 되어있는 질문 리스트의 제목을 모두 가져와봅시다.\n",
    "# 과도한 요청을 방지하기 위해 1초마다 요청을 보내봅시다.\n",
    "\n",
    "import time\n",
    "\n",
    "for i in range(1,5):\n",
    "    res = requests.get(\"https://hashcode.co.kr/?page={}\".format(i), user_agent)\n",
    "    soup = BeautifulSoup(res.text, \"html.parser\")\n",
    "    \n",
    "    questions = soup.find_all(\"li\", \"question-list-item\")\n",
    "    for question in questions[:5]:\n",
    "        print(question.find(\"div\", \"question\").find(\"div\",\"top\").h4.text)\n",
    "    print(\"\\n\")\n",
    "    time.sleep(0.5)\n",
    "    "
   ]
  }
 ],
 "metadata": {
  "kernelspec": {
   "display_name": "Python 3 (ipykernel)",
   "language": "python",
   "name": "python3"
  },
  "language_info": {
   "codemirror_mode": {
    "name": "ipython",
    "version": 3
   },
   "file_extension": ".py",
   "mimetype": "text/x-python",
   "name": "python",
   "nbconvert_exporter": "python",
   "pygments_lexer": "ipython3",
   "version": "3.9.12"
  }
 },
 "nbformat": 4,
 "nbformat_minor": 5
}
